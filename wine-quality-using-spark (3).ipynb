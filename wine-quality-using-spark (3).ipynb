{
 "cells": [
  {
   "cell_type": "code",
   "execution_count": 1,
   "id": "55502d28",
   "metadata": {
    "_cell_guid": "b1076dfc-b9ad-4769-8c92-a6c4dae69d19",
    "_uuid": "8f2839f25d086af736a60e9eeb907d3b93b6e0e5",
    "execution": {
     "iopub.execute_input": "2023-02-15T11:15:04.706465Z",
     "iopub.status.busy": "2023-02-15T11:15:04.705839Z",
     "iopub.status.idle": "2023-02-15T11:15:04.720453Z",
     "shell.execute_reply": "2023-02-15T11:15:04.719380Z"
    },
    "papermill": {
     "duration": 0.032609,
     "end_time": "2023-02-15T11:15:04.723349",
     "exception": false,
     "start_time": "2023-02-15T11:15:04.690740",
     "status": "completed"
    },
    "tags": []
   },
   "outputs": [
    {
     "name": "stdout",
     "output_type": "stream",
     "text": [
      "/kaggle/input/playground-series-s3e5/sample_submission.csv\n",
      "/kaggle/input/playground-series-s3e5/train.csv\n",
      "/kaggle/input/playground-series-s3e5/test.csv\n"
     ]
    }
   ],
   "source": [
    "# This Python 3 environment comes with many helpful analytics libraries installed\n",
    "# It is defined by the kaggle/python Docker image: https://github.com/kaggle/docker-python\n",
    "# For example, here's several helpful packages to load\n",
    "\n",
    "import numpy as np # linear algebra\n",
    "import pandas as pd # data processing, CSV file I/O (e.g. pd.read_csv)\n",
    "\n",
    "# Input data files are available in the read-only \"../input/\" directory\n",
    "# For example, running this (by clicking run or pressing Shift+Enter) will list all files under the input directory\n",
    "\n",
    "import os\n",
    "for dirname, _, filenames in os.walk('/kaggle/input'):\n",
    "    for filename in filenames:\n",
    "        print(os.path.join(dirname, filename))\n",
    "\n",
    "# You can write up to 20GB to the current directory (/kaggle/working/) that gets preserved as output when you create a version using \"Save & Run All\" \n",
    "# You can also write temporary files to /kaggle/temp/, but they won't be saved outside of the current session"
   ]
  },
  {
   "cell_type": "code",
   "execution_count": 2,
   "id": "fba5444d",
   "metadata": {
    "execution": {
     "iopub.execute_input": "2023-02-15T11:15:04.751069Z",
     "iopub.status.busy": "2023-02-15T11:15:04.750145Z",
     "iopub.status.idle": "2023-02-15T11:15:50.534803Z",
     "shell.execute_reply": "2023-02-15T11:15:50.532661Z"
    },
    "papermill": {
     "duration": 45.802612,
     "end_time": "2023-02-15T11:15:50.537913",
     "exception": false,
     "start_time": "2023-02-15T11:15:04.735301",
     "status": "completed"
    },
    "tags": []
   },
   "outputs": [
    {
     "name": "stdout",
     "output_type": "stream",
     "text": [
      "Collecting pyspark\r\n",
      "  Downloading pyspark-3.3.1.tar.gz (281.4 MB)\r\n",
      "\u001b[2K     \u001b[90m━━━━━━━━━━━━━━━━━━━━━━━━━━━━━━━━━━━━━━━\u001b[0m \u001b[32m281.4/281.4 MB\u001b[0m \u001b[31m4.2 MB/s\u001b[0m eta \u001b[36m0:00:00\u001b[0m\r\n",
      "\u001b[?25h  Preparing metadata (setup.py) ... \u001b[?25l-\b \bdone\r\n",
      "\u001b[?25hCollecting py4j==0.10.9.5\r\n",
      "  Downloading py4j-0.10.9.5-py2.py3-none-any.whl (199 kB)\r\n",
      "\u001b[2K     \u001b[90m━━━━━━━━━━━━━━━━━━━━━━━━━━━━━━━━━━━━━━\u001b[0m \u001b[32m199.7/199.7 kB\u001b[0m \u001b[31m19.4 MB/s\u001b[0m eta \u001b[36m0:00:00\u001b[0m\r\n",
      "\u001b[?25hBuilding wheels for collected packages: pyspark\r\n",
      "  Building wheel for pyspark (setup.py) ... \u001b[?25l-\b \b\\\b \b|\b \b/\b \b-\b \b\\\b \b|\b \b/\b \b-\b \b\\\b \b|\b \b/\b \b-\b \b\\\b \b|\b \b/\b \b-\b \b\\\b \b|\b \b/\b \b-\b \b\\\b \b|\b \b/\b \b-\b \b\\\b \b|\b \b/\b \b-\b \b\\\b \b|\b \b/\b \b-\b \b\\\b \b|\b \b/\b \b-\b \b\\\b \b|\b \b/\b \b-\b \b\\\b \b|\b \b/\b \b-\b \b\\\b \b|\b \b/\b \b-\b \b\\\b \b|\b \b/\b \b-\b \b\\\b \b|\b \b/\b \b-\b \bdone\r\n",
      "\u001b[?25h  Created wheel for pyspark: filename=pyspark-3.3.1-py2.py3-none-any.whl size=281845513 sha256=c2ade60ec7db13a10d89e2f5280e3ef0da36f67ed5e6a626a56f2843cc137fab\r\n",
      "  Stored in directory: /root/.cache/pip/wheels/42/59/f5/79a5bf931714dcd201b26025347785f087370a10a3329a899c\r\n",
      "Successfully built pyspark\r\n",
      "Installing collected packages: py4j, pyspark\r\n",
      "  Attempting uninstall: py4j\r\n",
      "    Found existing installation: py4j 0.10.9.7\r\n",
      "    Uninstalling py4j-0.10.9.7:\r\n",
      "      Successfully uninstalled py4j-0.10.9.7\r\n",
      "Successfully installed py4j-0.10.9.5 pyspark-3.3.1\r\n",
      "\u001b[33mWARNING: Running pip as the 'root' user can result in broken permissions and conflicting behaviour with the system package manager. It is recommended to use a virtual environment instead: https://pip.pypa.io/warnings/venv\u001b[0m\u001b[33m\r\n",
      "\u001b[0mNote: you may need to restart the kernel to use updated packages.\n"
     ]
    }
   ],
   "source": [
    "pip install pyspark"
   ]
  },
  {
   "cell_type": "markdown",
   "id": "4c171834",
   "metadata": {
    "papermill": {
     "duration": 0.019925,
     "end_time": "2023-02-15T11:15:50.577940",
     "exception": false,
     "start_time": "2023-02-15T11:15:50.558015",
     "status": "completed"
    },
    "tags": []
   },
   "source": [
    "**IMPORTING ALL THE NECESSARY FILES**"
   ]
  },
  {
   "cell_type": "code",
   "execution_count": 3,
   "id": "b2efd428",
   "metadata": {
    "execution": {
     "iopub.execute_input": "2023-02-15T11:15:50.621059Z",
     "iopub.status.busy": "2023-02-15T11:15:50.619941Z",
     "iopub.status.idle": "2023-02-15T11:15:50.820102Z",
     "shell.execute_reply": "2023-02-15T11:15:50.819079Z"
    },
    "papermill": {
     "duration": 0.224446,
     "end_time": "2023-02-15T11:15:50.822717",
     "exception": false,
     "start_time": "2023-02-15T11:15:50.598271",
     "status": "completed"
    },
    "tags": []
   },
   "outputs": [],
   "source": [
    "from pyspark.sql.types import *\n",
    "from pyspark.sql.functions import *\n",
    "from pyspark.sql import SparkSession\n",
    "\n",
    "from pyspark.ml import Pipeline\n",
    "#from pyspark.ml.classification import DecisionTreeClassifier\n",
    "from pyspark.ml.feature import VectorAssembler, StringIndexer, VectorIndexer, MinMaxScaler\n",
    "from pyspark.ml.classification import LogisticRegression\n",
    "from pyspark.ml.tuning import ParamGridBuilder, CrossValidator\n",
    "from pyspark.ml.evaluation import BinaryClassificationEvaluator"
   ]
  },
  {
   "cell_type": "code",
   "execution_count": 4,
   "id": "7691ac95",
   "metadata": {
    "execution": {
     "iopub.execute_input": "2023-02-15T11:15:50.866769Z",
     "iopub.status.busy": "2023-02-15T11:15:50.866400Z",
     "iopub.status.idle": "2023-02-15T11:15:50.871240Z",
     "shell.execute_reply": "2023-02-15T11:15:50.870152Z"
    },
    "papermill": {
     "duration": 0.029141,
     "end_time": "2023-02-15T11:15:50.873537",
     "exception": false,
     "start_time": "2023-02-15T11:15:50.844396",
     "status": "completed"
    },
    "tags": []
   },
   "outputs": [],
   "source": [
    "from pyspark import sql\n",
    "from pyspark.sql import SparkSession"
   ]
  },
  {
   "cell_type": "markdown",
   "id": "fd584475",
   "metadata": {
    "papermill": {
     "duration": 0.019968,
     "end_time": "2023-02-15T11:15:50.913728",
     "exception": false,
     "start_time": "2023-02-15T11:15:50.893760",
     "status": "completed"
    },
    "tags": []
   },
   "source": [
    "**CREATING SPARK SESSION**"
   ]
  },
  {
   "cell_type": "code",
   "execution_count": 5,
   "id": "f92c9734",
   "metadata": {
    "execution": {
     "iopub.execute_input": "2023-02-15T11:15:50.956788Z",
     "iopub.status.busy": "2023-02-15T11:15:50.956411Z",
     "iopub.status.idle": "2023-02-15T11:15:57.065408Z",
     "shell.execute_reply": "2023-02-15T11:15:57.064035Z"
    },
    "papermill": {
     "duration": 6.133839,
     "end_time": "2023-02-15T11:15:57.068269",
     "exception": false,
     "start_time": "2023-02-15T11:15:50.934430",
     "status": "completed"
    },
    "tags": []
   },
   "outputs": [
    {
     "name": "stderr",
     "output_type": "stream",
     "text": [
      "Setting default log level to \"WARN\".\n",
      "To adjust logging level use sc.setLogLevel(newLevel). For SparkR, use setLogLevel(newLevel).\n"
     ]
    },
    {
     "name": "stdout",
     "output_type": "stream",
     "text": [
      "23/02/15 11:15:54 WARN NativeCodeLoader: Unable to load native-hadoop library for your platform... using builtin-java classes where applicable\n"
     ]
    }
   ],
   "source": [
    "spark = SparkSession.builder.appName(\"wine_prediction\").getOrCreate()"
   ]
  },
  {
   "cell_type": "code",
   "execution_count": 6,
   "id": "c49c096f",
   "metadata": {
    "execution": {
     "iopub.execute_input": "2023-02-15T11:15:57.113433Z",
     "iopub.status.busy": "2023-02-15T11:15:57.113077Z",
     "iopub.status.idle": "2023-02-15T11:15:58.132548Z",
     "shell.execute_reply": "2023-02-15T11:15:58.131526Z"
    },
    "papermill": {
     "duration": 1.045292,
     "end_time": "2023-02-15T11:15:58.135300",
     "exception": false,
     "start_time": "2023-02-15T11:15:57.090008",
     "status": "completed"
    },
    "tags": []
   },
   "outputs": [
    {
     "data": {
      "text/html": [
       "\n",
       "            <div>\n",
       "                <p><b>SparkSession - in-memory</b></p>\n",
       "                \n",
       "        <div>\n",
       "            <p><b>SparkContext</b></p>\n",
       "\n",
       "            <p><a href=\"http://a2d7431ffd9b:4040\">Spark UI</a></p>\n",
       "\n",
       "            <dl>\n",
       "              <dt>Version</dt>\n",
       "                <dd><code>v3.3.1</code></dd>\n",
       "              <dt>Master</dt>\n",
       "                <dd><code>local[*]</code></dd>\n",
       "              <dt>AppName</dt>\n",
       "                <dd><code>wine_prediction</code></dd>\n",
       "            </dl>\n",
       "        </div>\n",
       "        \n",
       "            </div>\n",
       "        "
      ],
      "text/plain": [
       "<pyspark.sql.session.SparkSession at 0x7f62a7c14710>"
      ]
     },
     "execution_count": 6,
     "metadata": {},
     "output_type": "execute_result"
    }
   ],
   "source": [
    "spark"
   ]
  },
  {
   "cell_type": "markdown",
   "id": "22f0992c",
   "metadata": {
    "papermill": {
     "duration": 0.028314,
     "end_time": "2023-02-15T11:15:58.194088",
     "exception": false,
     "start_time": "2023-02-15T11:15:58.165774",
     "status": "completed"
    },
    "tags": []
   },
   "source": [
    "#![](http://)"
   ]
  },
  {
   "cell_type": "markdown",
   "id": "bc45d8c9",
   "metadata": {
    "papermill": {
     "duration": 0.02896,
     "end_time": "2023-02-15T11:15:58.251969",
     "exception": false,
     "start_time": "2023-02-15T11:15:58.223009",
     "status": "completed"
    },
    "tags": []
   },
   "source": [
    "![WINE](https://images.unsplash.com/photo-1569153482031-a3cebdedf294?ixlib=rb-4.0.3&ixid=MnwxMjA3fDB8MHxzZWFyY2h8Mnx8d2luZSUyMGdsYXNzfGVufDB8fDB8fA)"
   ]
  },
  {
   "cell_type": "markdown",
   "id": "d0089e10",
   "metadata": {
    "papermill": {
     "duration": 0.030739,
     "end_time": "2023-02-15T11:15:58.312306",
     "exception": false,
     "start_time": "2023-02-15T11:15:58.281567",
     "status": "completed"
    },
    "tags": []
   },
   "source": [
    "**READING THE DATA FILES**"
   ]
  },
  {
   "cell_type": "code",
   "execution_count": 7,
   "id": "30c4a1d7",
   "metadata": {
    "execution": {
     "iopub.execute_input": "2023-02-15T11:15:58.377966Z",
     "iopub.status.busy": "2023-02-15T11:15:58.376544Z",
     "iopub.status.idle": "2023-02-15T11:16:04.810532Z",
     "shell.execute_reply": "2023-02-15T11:16:04.809457Z"
    },
    "papermill": {
     "duration": 6.470598,
     "end_time": "2023-02-15T11:16:04.814390",
     "exception": false,
     "start_time": "2023-02-15T11:15:58.343792",
     "status": "completed"
    },
    "tags": []
   },
   "outputs": [],
   "source": [
    "df=spark.read.csv('/kaggle/input/playground-series-s3e5/train.csv',inferSchema=True, header=True)"
   ]
  },
  {
   "cell_type": "code",
   "execution_count": 8,
   "id": "427f44b9",
   "metadata": {
    "execution": {
     "iopub.execute_input": "2023-02-15T11:16:04.875496Z",
     "iopub.status.busy": "2023-02-15T11:16:04.875081Z",
     "iopub.status.idle": "2023-02-15T11:16:05.349707Z",
     "shell.execute_reply": "2023-02-15T11:16:05.348633Z"
    },
    "papermill": {
     "duration": 0.509379,
     "end_time": "2023-02-15T11:16:05.353575",
     "exception": false,
     "start_time": "2023-02-15T11:16:04.844196",
     "status": "completed"
    },
    "tags": []
   },
   "outputs": [],
   "source": [
    "test_main=spark.read.csv('/kaggle/input/playground-series-s3e5/test.csv',inferSchema=True, header=True)"
   ]
  },
  {
   "cell_type": "code",
   "execution_count": 9,
   "id": "3f76e5bb",
   "metadata": {
    "execution": {
     "iopub.execute_input": "2023-02-15T11:16:05.416488Z",
     "iopub.status.busy": "2023-02-15T11:16:05.416041Z",
     "iopub.status.idle": "2023-02-15T11:16:06.011283Z",
     "shell.execute_reply": "2023-02-15T11:16:06.010075Z"
    },
    "papermill": {
     "duration": 0.63079,
     "end_time": "2023-02-15T11:16:06.015340",
     "exception": false,
     "start_time": "2023-02-15T11:16:05.384550",
     "status": "completed"
    },
    "tags": []
   },
   "outputs": [],
   "source": [
    "sub=spark.read.csv('/kaggle/input/playground-series-s3e5/sample_submission.csv',inferSchema=True, header=True)"
   ]
  },
  {
   "cell_type": "code",
   "execution_count": 10,
   "id": "1037cb1a",
   "metadata": {
    "execution": {
     "iopub.execute_input": "2023-02-15T11:16:06.078914Z",
     "iopub.status.busy": "2023-02-15T11:16:06.078483Z",
     "iopub.status.idle": "2023-02-15T11:16:06.678383Z",
     "shell.execute_reply": "2023-02-15T11:16:06.677318Z"
    },
    "papermill": {
     "duration": 0.633909,
     "end_time": "2023-02-15T11:16:06.681203",
     "exception": false,
     "start_time": "2023-02-15T11:16:06.047294",
     "status": "completed"
    },
    "tags": []
   },
   "outputs": [
    {
     "name": "stdout",
     "output_type": "stream",
     "text": [
      "+---+-------------+----------------+-----------+--------------+---------+-------------------+--------------------+-------+----+---------+-------+-------+\n",
      "| Id|fixed acidity|volatile acidity|citric acid|residual sugar|chlorides|free sulfur dioxide|total sulfur dioxide|density|  pH|sulphates|alcohol|quality|\n",
      "+---+-------------+----------------+-----------+--------------+---------+-------------------+--------------------+-------+----+---------+-------+-------+\n",
      "|  0|          8.0|             0.5|       0.39|           2.2|    0.073|               30.0|                39.0|0.99572|3.33|     0.77|   12.1|      6|\n",
      "|  1|          9.3|             0.3|       0.73|           2.3|    0.092|               30.0|                67.0|0.99854|3.32|     0.67|   12.8|      6|\n",
      "|  2|          7.1|            0.51|       0.03|           2.1|    0.059|                3.0|                12.0| 0.9966|3.52|     0.73|   11.3|      7|\n",
      "|  3|          8.1|            0.87|       0.22|           2.6|    0.084|               11.0|                65.0| 0.9973| 3.2|     0.53|    9.8|      5|\n",
      "|  4|          8.5|            0.36|        0.3|           2.3|    0.079|               10.0|                45.0|0.99444| 3.2|     1.36|    9.5|      6|\n",
      "|  5|          9.9|            0.51|       0.44|           2.2|    0.111|               30.0|               134.0| 0.9982|3.11|     0.54|    9.6|      5|\n",
      "|  6|          7.2|            0.87|        0.0|           2.3|     0.08|                6.0|                18.0|0.99552|3.34|      0.6|   11.3|      6|\n",
      "|  7|          7.5|            0.43|       0.32|           1.8|    0.066|               18.0|                40.0| 0.9956| 3.3|     0.43|    9.7|      6|\n",
      "|  8|         11.6|            0.38|       0.55|           2.2|    0.084|               17.0|                40.0| 1.0008|3.17|     0.73|    9.8|      6|\n",
      "|  9|          7.8|            0.78|       0.09|           2.2|    0.049|               13.0|                29.0|0.99682|3.51|     0.49|    9.5|      5|\n",
      "| 10|          9.0|           0.715|       0.24|           2.6|    0.086|               17.0|               110.0| 0.9976|3.31|     0.53|    9.4|      5|\n",
      "| 11|         10.4|            0.24|       0.42|           2.4|    0.059|                6.0|                15.0| 0.9972|3.08|     0.86|   10.8|      7|\n",
      "| 12|         10.5|            0.59|       0.24|           2.7|    0.076|               13.0|                30.0| 0.9981|3.04|     0.49|   10.0|      6|\n",
      "| 13|          6.7|            0.52|       0.28|           1.8|    0.088|               23.0|                91.0| 0.9948|3.38|     0.48|    9.3|      4|\n",
      "| 14|          6.4|            0.66|       0.03|           2.2|    0.078|               31.0|                54.0|0.99736|3.56|     0.57|   11.0|      6|\n",
      "| 15|          7.4|            0.59|       0.24|           2.8|    0.076|               31.0|               134.0| 0.9978|3.21|     0.51|    9.4|      5|\n",
      "| 16|         11.5|            0.27|        0.6|           2.3|    0.089|               11.0|                25.0|0.99628| 3.1|     0.44|   12.0|      7|\n",
      "| 17|          7.6|            0.56|       0.28|           2.4|    0.077|               16.0|                86.0| 0.9969|3.22|     0.64|    9.8|      6|\n",
      "| 18|         10.2|            0.24|       0.34|           2.6|    0.067|               13.0|                27.0|0.99683|3.22|     0.58|   10.0|      6|\n",
      "| 19|          5.6|            0.39|       0.16|           3.0|    0.095|               12.0|                49.0| 0.9981|3.61|     0.89|   13.1|      8|\n",
      "+---+-------------+----------------+-----------+--------------+---------+-------------------+--------------------+-------+----+---------+-------+-------+\n",
      "only showing top 20 rows\n",
      "\n"
     ]
    }
   ],
   "source": [
    "df.show()"
   ]
  },
  {
   "cell_type": "markdown",
   "id": "a9914e56",
   "metadata": {
    "papermill": {
     "duration": 0.027225,
     "end_time": "2023-02-15T11:16:06.740490",
     "exception": false,
     "start_time": "2023-02-15T11:16:06.713265",
     "status": "completed"
    },
    "tags": []
   },
   "source": [
    "**showing the data in pandas format**"
   ]
  },
  {
   "cell_type": "code",
   "execution_count": 11,
   "id": "703287aa",
   "metadata": {
    "execution": {
     "iopub.execute_input": "2023-02-15T11:16:06.802907Z",
     "iopub.status.busy": "2023-02-15T11:16:06.802469Z",
     "iopub.status.idle": "2023-02-15T11:16:07.223973Z",
     "shell.execute_reply": "2023-02-15T11:16:07.222827Z"
    },
    "papermill": {
     "duration": 0.456368,
     "end_time": "2023-02-15T11:16:07.227485",
     "exception": false,
     "start_time": "2023-02-15T11:16:06.771117",
     "status": "completed"
    },
    "tags": []
   },
   "outputs": [
    {
     "data": {
      "text/html": [
       "<div>\n",
       "<style scoped>\n",
       "    .dataframe tbody tr th:only-of-type {\n",
       "        vertical-align: middle;\n",
       "    }\n",
       "\n",
       "    .dataframe tbody tr th {\n",
       "        vertical-align: top;\n",
       "    }\n",
       "\n",
       "    .dataframe thead th {\n",
       "        text-align: right;\n",
       "    }\n",
       "</style>\n",
       "<table border=\"1\" class=\"dataframe\">\n",
       "  <thead>\n",
       "    <tr style=\"text-align: right;\">\n",
       "      <th></th>\n",
       "      <th>Id</th>\n",
       "      <th>fixed acidity</th>\n",
       "      <th>volatile acidity</th>\n",
       "      <th>citric acid</th>\n",
       "      <th>residual sugar</th>\n",
       "      <th>chlorides</th>\n",
       "      <th>free sulfur dioxide</th>\n",
       "      <th>total sulfur dioxide</th>\n",
       "      <th>density</th>\n",
       "      <th>pH</th>\n",
       "      <th>sulphates</th>\n",
       "      <th>alcohol</th>\n",
       "      <th>quality</th>\n",
       "    </tr>\n",
       "  </thead>\n",
       "  <tbody>\n",
       "    <tr>\n",
       "      <th>0</th>\n",
       "      <td>0</td>\n",
       "      <td>8.0</td>\n",
       "      <td>0.50</td>\n",
       "      <td>0.39</td>\n",
       "      <td>2.20</td>\n",
       "      <td>0.073</td>\n",
       "      <td>30.0</td>\n",
       "      <td>39.0</td>\n",
       "      <td>0.99572</td>\n",
       "      <td>3.33</td>\n",
       "      <td>0.77</td>\n",
       "      <td>12.1</td>\n",
       "      <td>6</td>\n",
       "    </tr>\n",
       "    <tr>\n",
       "      <th>1</th>\n",
       "      <td>1</td>\n",
       "      <td>9.3</td>\n",
       "      <td>0.30</td>\n",
       "      <td>0.73</td>\n",
       "      <td>2.30</td>\n",
       "      <td>0.092</td>\n",
       "      <td>30.0</td>\n",
       "      <td>67.0</td>\n",
       "      <td>0.99854</td>\n",
       "      <td>3.32</td>\n",
       "      <td>0.67</td>\n",
       "      <td>12.8</td>\n",
       "      <td>6</td>\n",
       "    </tr>\n",
       "    <tr>\n",
       "      <th>2</th>\n",
       "      <td>2</td>\n",
       "      <td>7.1</td>\n",
       "      <td>0.51</td>\n",
       "      <td>0.03</td>\n",
       "      <td>2.10</td>\n",
       "      <td>0.059</td>\n",
       "      <td>3.0</td>\n",
       "      <td>12.0</td>\n",
       "      <td>0.99660</td>\n",
       "      <td>3.52</td>\n",
       "      <td>0.73</td>\n",
       "      <td>11.3</td>\n",
       "      <td>7</td>\n",
       "    </tr>\n",
       "    <tr>\n",
       "      <th>3</th>\n",
       "      <td>3</td>\n",
       "      <td>8.1</td>\n",
       "      <td>0.87</td>\n",
       "      <td>0.22</td>\n",
       "      <td>2.60</td>\n",
       "      <td>0.084</td>\n",
       "      <td>11.0</td>\n",
       "      <td>65.0</td>\n",
       "      <td>0.99730</td>\n",
       "      <td>3.20</td>\n",
       "      <td>0.53</td>\n",
       "      <td>9.8</td>\n",
       "      <td>5</td>\n",
       "    </tr>\n",
       "    <tr>\n",
       "      <th>4</th>\n",
       "      <td>4</td>\n",
       "      <td>8.5</td>\n",
       "      <td>0.36</td>\n",
       "      <td>0.30</td>\n",
       "      <td>2.30</td>\n",
       "      <td>0.079</td>\n",
       "      <td>10.0</td>\n",
       "      <td>45.0</td>\n",
       "      <td>0.99444</td>\n",
       "      <td>3.20</td>\n",
       "      <td>1.36</td>\n",
       "      <td>9.5</td>\n",
       "      <td>6</td>\n",
       "    </tr>\n",
       "    <tr>\n",
       "      <th>...</th>\n",
       "      <td>...</td>\n",
       "      <td>...</td>\n",
       "      <td>...</td>\n",
       "      <td>...</td>\n",
       "      <td>...</td>\n",
       "      <td>...</td>\n",
       "      <td>...</td>\n",
       "      <td>...</td>\n",
       "      <td>...</td>\n",
       "      <td>...</td>\n",
       "      <td>...</td>\n",
       "      <td>...</td>\n",
       "      <td>...</td>\n",
       "    </tr>\n",
       "    <tr>\n",
       "      <th>2051</th>\n",
       "      <td>2051</td>\n",
       "      <td>6.6</td>\n",
       "      <td>0.31</td>\n",
       "      <td>0.13</td>\n",
       "      <td>2.00</td>\n",
       "      <td>0.056</td>\n",
       "      <td>29.0</td>\n",
       "      <td>42.0</td>\n",
       "      <td>0.99388</td>\n",
       "      <td>3.52</td>\n",
       "      <td>0.87</td>\n",
       "      <td>12.0</td>\n",
       "      <td>7</td>\n",
       "    </tr>\n",
       "    <tr>\n",
       "      <th>2052</th>\n",
       "      <td>2052</td>\n",
       "      <td>9.7</td>\n",
       "      <td>0.59</td>\n",
       "      <td>0.21</td>\n",
       "      <td>1.80</td>\n",
       "      <td>0.079</td>\n",
       "      <td>27.0</td>\n",
       "      <td>65.0</td>\n",
       "      <td>0.99745</td>\n",
       "      <td>3.14</td>\n",
       "      <td>0.58</td>\n",
       "      <td>9.4</td>\n",
       "      <td>5</td>\n",
       "    </tr>\n",
       "    <tr>\n",
       "      <th>2053</th>\n",
       "      <td>2053</td>\n",
       "      <td>7.7</td>\n",
       "      <td>0.43</td>\n",
       "      <td>0.42</td>\n",
       "      <td>1.70</td>\n",
       "      <td>0.071</td>\n",
       "      <td>19.0</td>\n",
       "      <td>37.0</td>\n",
       "      <td>0.99258</td>\n",
       "      <td>3.32</td>\n",
       "      <td>0.77</td>\n",
       "      <td>12.5</td>\n",
       "      <td>8</td>\n",
       "    </tr>\n",
       "    <tr>\n",
       "      <th>2054</th>\n",
       "      <td>2054</td>\n",
       "      <td>9.1</td>\n",
       "      <td>0.50</td>\n",
       "      <td>0.00</td>\n",
       "      <td>1.75</td>\n",
       "      <td>0.058</td>\n",
       "      <td>5.0</td>\n",
       "      <td>13.0</td>\n",
       "      <td>0.99670</td>\n",
       "      <td>3.22</td>\n",
       "      <td>0.42</td>\n",
       "      <td>9.5</td>\n",
       "      <td>5</td>\n",
       "    </tr>\n",
       "    <tr>\n",
       "      <th>2055</th>\n",
       "      <td>2055</td>\n",
       "      <td>6.2</td>\n",
       "      <td>0.31</td>\n",
       "      <td>0.18</td>\n",
       "      <td>2.30</td>\n",
       "      <td>0.059</td>\n",
       "      <td>12.0</td>\n",
       "      <td>28.0</td>\n",
       "      <td>0.99520</td>\n",
       "      <td>3.56</td>\n",
       "      <td>0.88</td>\n",
       "      <td>11.4</td>\n",
       "      <td>7</td>\n",
       "    </tr>\n",
       "  </tbody>\n",
       "</table>\n",
       "<p>2056 rows × 13 columns</p>\n",
       "</div>"
      ],
      "text/plain": [
       "        Id  fixed acidity  volatile acidity  citric acid  residual sugar  \\\n",
       "0        0            8.0              0.50         0.39            2.20   \n",
       "1        1            9.3              0.30         0.73            2.30   \n",
       "2        2            7.1              0.51         0.03            2.10   \n",
       "3        3            8.1              0.87         0.22            2.60   \n",
       "4        4            8.5              0.36         0.30            2.30   \n",
       "...    ...            ...               ...          ...             ...   \n",
       "2051  2051            6.6              0.31         0.13            2.00   \n",
       "2052  2052            9.7              0.59         0.21            1.80   \n",
       "2053  2053            7.7              0.43         0.42            1.70   \n",
       "2054  2054            9.1              0.50         0.00            1.75   \n",
       "2055  2055            6.2              0.31         0.18            2.30   \n",
       "\n",
       "      chlorides  free sulfur dioxide  total sulfur dioxide  density    pH  \\\n",
       "0         0.073                 30.0                  39.0  0.99572  3.33   \n",
       "1         0.092                 30.0                  67.0  0.99854  3.32   \n",
       "2         0.059                  3.0                  12.0  0.99660  3.52   \n",
       "3         0.084                 11.0                  65.0  0.99730  3.20   \n",
       "4         0.079                 10.0                  45.0  0.99444  3.20   \n",
       "...         ...                  ...                   ...      ...   ...   \n",
       "2051      0.056                 29.0                  42.0  0.99388  3.52   \n",
       "2052      0.079                 27.0                  65.0  0.99745  3.14   \n",
       "2053      0.071                 19.0                  37.0  0.99258  3.32   \n",
       "2054      0.058                  5.0                  13.0  0.99670  3.22   \n",
       "2055      0.059                 12.0                  28.0  0.99520  3.56   \n",
       "\n",
       "      sulphates  alcohol  quality  \n",
       "0          0.77     12.1        6  \n",
       "1          0.67     12.8        6  \n",
       "2          0.73     11.3        7  \n",
       "3          0.53      9.8        5  \n",
       "4          1.36      9.5        6  \n",
       "...         ...      ...      ...  \n",
       "2051       0.87     12.0        7  \n",
       "2052       0.58      9.4        5  \n",
       "2053       0.77     12.5        8  \n",
       "2054       0.42      9.5        5  \n",
       "2055       0.88     11.4        7  \n",
       "\n",
       "[2056 rows x 13 columns]"
      ]
     },
     "execution_count": 11,
     "metadata": {},
     "output_type": "execute_result"
    }
   ],
   "source": [
    "df.toPandas()"
   ]
  },
  {
   "cell_type": "markdown",
   "id": "2c7deb93",
   "metadata": {
    "papermill": {
     "duration": 0.028586,
     "end_time": "2023-02-15T11:16:07.288473",
     "exception": false,
     "start_time": "2023-02-15T11:16:07.259887",
     "status": "completed"
    },
    "tags": []
   },
   "source": [
    "**CHECKING THE NULL VALUES**"
   ]
  },
  {
   "cell_type": "code",
   "execution_count": 12,
   "id": "181cadef",
   "metadata": {
    "execution": {
     "iopub.execute_input": "2023-02-15T11:16:07.351375Z",
     "iopub.status.busy": "2023-02-15T11:16:07.350864Z",
     "iopub.status.idle": "2023-02-15T11:16:08.937635Z",
     "shell.execute_reply": "2023-02-15T11:16:08.936438Z"
    },
    "papermill": {
     "duration": 1.62206,
     "end_time": "2023-02-15T11:16:08.941234",
     "exception": false,
     "start_time": "2023-02-15T11:16:07.319174",
     "status": "completed"
    },
    "tags": []
   },
   "outputs": [
    {
     "name": "stdout",
     "output_type": "stream",
     "text": [
      "+---+-------------+----------------+-----------+--------------+---------+-------------------+--------------------+-------+---+---------+-------+-------+\n",
      "| Id|fixed acidity|volatile acidity|citric acid|residual sugar|chlorides|free sulfur dioxide|total sulfur dioxide|density| pH|sulphates|alcohol|quality|\n",
      "+---+-------------+----------------+-----------+--------------+---------+-------------------+--------------------+-------+---+---------+-------+-------+\n",
      "|  0|            0|               0|          0|             0|        0|                  0|                   0|      0|  0|        0|      0|      0|\n",
      "+---+-------------+----------------+-----------+--------------+---------+-------------------+--------------------+-------+---+---------+-------+-------+\n",
      "\n"
     ]
    }
   ],
   "source": [
    "from pyspark.sql.functions import col,isnan, when, count\n",
    "\n",
    "df.select([count(when(isnan(c) | col(c).isNull(), c)).alias(c) for c in df.columns]\n",
    "   ).show()"
   ]
  },
  {
   "cell_type": "code",
   "execution_count": 13,
   "id": "9b4028c2",
   "metadata": {
    "execution": {
     "iopub.execute_input": "2023-02-15T11:16:09.023880Z",
     "iopub.status.busy": "2023-02-15T11:16:09.023389Z",
     "iopub.status.idle": "2023-02-15T11:16:09.043582Z",
     "shell.execute_reply": "2023-02-15T11:16:09.042570Z"
    },
    "papermill": {
     "duration": 0.065537,
     "end_time": "2023-02-15T11:16:09.047430",
     "exception": false,
     "start_time": "2023-02-15T11:16:08.981893",
     "status": "completed"
    },
    "tags": []
   },
   "outputs": [],
   "source": [
    "df=df.drop('Id')"
   ]
  },
  {
   "cell_type": "code",
   "execution_count": 14,
   "id": "f5f7458b",
   "metadata": {
    "execution": {
     "iopub.execute_input": "2023-02-15T11:16:09.091888Z",
     "iopub.status.busy": "2023-02-15T11:16:09.091554Z",
     "iopub.status.idle": "2023-02-15T11:16:09.548094Z",
     "shell.execute_reply": "2023-02-15T11:16:09.546921Z"
    },
    "papermill": {
     "duration": 0.491661,
     "end_time": "2023-02-15T11:16:09.561552",
     "exception": false,
     "start_time": "2023-02-15T11:16:09.069891",
     "status": "completed"
    },
    "tags": []
   },
   "outputs": [
    {
     "name": "stdout",
     "output_type": "stream",
     "text": [
      "+-------------+----------------+-----------+--------------+---------+-------------------+--------------------+-------+----+---------+-------+-------+\n",
      "|fixed acidity|volatile acidity|citric acid|residual sugar|chlorides|free sulfur dioxide|total sulfur dioxide|density|  pH|sulphates|alcohol|quality|\n",
      "+-------------+----------------+-----------+--------------+---------+-------------------+--------------------+-------+----+---------+-------+-------+\n",
      "|          8.0|             0.5|       0.39|           2.2|    0.073|               30.0|                39.0|0.99572|3.33|     0.77|   12.1|      6|\n",
      "|          9.3|             0.3|       0.73|           2.3|    0.092|               30.0|                67.0|0.99854|3.32|     0.67|   12.8|      6|\n",
      "|          7.1|            0.51|       0.03|           2.1|    0.059|                3.0|                12.0| 0.9966|3.52|     0.73|   11.3|      7|\n",
      "|          8.1|            0.87|       0.22|           2.6|    0.084|               11.0|                65.0| 0.9973| 3.2|     0.53|    9.8|      5|\n",
      "|          8.5|            0.36|        0.3|           2.3|    0.079|               10.0|                45.0|0.99444| 3.2|     1.36|    9.5|      6|\n",
      "|          9.9|            0.51|       0.44|           2.2|    0.111|               30.0|               134.0| 0.9982|3.11|     0.54|    9.6|      5|\n",
      "|          7.2|            0.87|        0.0|           2.3|     0.08|                6.0|                18.0|0.99552|3.34|      0.6|   11.3|      6|\n",
      "|          7.5|            0.43|       0.32|           1.8|    0.066|               18.0|                40.0| 0.9956| 3.3|     0.43|    9.7|      6|\n",
      "|         11.6|            0.38|       0.55|           2.2|    0.084|               17.0|                40.0| 1.0008|3.17|     0.73|    9.8|      6|\n",
      "|          7.8|            0.78|       0.09|           2.2|    0.049|               13.0|                29.0|0.99682|3.51|     0.49|    9.5|      5|\n",
      "+-------------+----------------+-----------+--------------+---------+-------------------+--------------------+-------+----+---------+-------+-------+\n",
      "only showing top 10 rows\n",
      "\n"
     ]
    }
   ],
   "source": [
    "data=df.select('fixed acidity','volatile acidity','citric acid','residual sugar','chlorides','free sulfur dioxide','total sulfur dioxide','density','pH','sulphates','alcohol','quality')\n",
    "data.show(10)"
   ]
  },
  {
   "cell_type": "markdown",
   "id": "018a4f8d",
   "metadata": {
    "papermill": {
     "duration": 0.085888,
     "end_time": "2023-02-15T11:16:09.762447",
     "exception": false,
     "start_time": "2023-02-15T11:16:09.676559",
     "status": "completed"
    },
    "tags": []
   },
   "source": [
    "**CHCEKING DATA TYPES**"
   ]
  },
  {
   "cell_type": "code",
   "execution_count": 15,
   "id": "d301fb96",
   "metadata": {
    "execution": {
     "iopub.execute_input": "2023-02-15T11:16:09.909846Z",
     "iopub.status.busy": "2023-02-15T11:16:09.909391Z",
     "iopub.status.idle": "2023-02-15T11:16:09.923883Z",
     "shell.execute_reply": "2023-02-15T11:16:09.922889Z"
    },
    "papermill": {
     "duration": 0.08552,
     "end_time": "2023-02-15T11:16:09.927037",
     "exception": false,
     "start_time": "2023-02-15T11:16:09.841517",
     "status": "completed"
    },
    "tags": []
   },
   "outputs": [
    {
     "data": {
      "text/plain": [
       "[('fixed acidity', 'double'),\n",
       " ('volatile acidity', 'double'),\n",
       " ('citric acid', 'double'),\n",
       " ('residual sugar', 'double'),\n",
       " ('chlorides', 'double'),\n",
       " ('free sulfur dioxide', 'double'),\n",
       " ('total sulfur dioxide', 'double'),\n",
       " ('density', 'double'),\n",
       " ('pH', 'double'),\n",
       " ('sulphates', 'double'),\n",
       " ('alcohol', 'double'),\n",
       " ('quality', 'int')]"
      ]
     },
     "execution_count": 15,
     "metadata": {},
     "output_type": "execute_result"
    }
   ],
   "source": [
    "df.dtypes"
   ]
  },
  {
   "cell_type": "markdown",
   "id": "397c8e9a",
   "metadata": {
    "papermill": {
     "duration": 0.054807,
     "end_time": "2023-02-15T11:16:10.049954",
     "exception": false,
     "start_time": "2023-02-15T11:16:09.995147",
     "status": "completed"
    },
    "tags": []
   },
   "source": [
    "**CREATING VECTORS**"
   ]
  },
  {
   "cell_type": "code",
   "execution_count": 16,
   "id": "51718b68",
   "metadata": {
    "execution": {
     "iopub.execute_input": "2023-02-15T11:16:10.195859Z",
     "iopub.status.busy": "2023-02-15T11:16:10.195414Z",
     "iopub.status.idle": "2023-02-15T11:16:10.628978Z",
     "shell.execute_reply": "2023-02-15T11:16:10.627882Z"
    },
    "papermill": {
     "duration": 0.529331,
     "end_time": "2023-02-15T11:16:10.632603",
     "exception": false,
     "start_time": "2023-02-15T11:16:10.103272",
     "status": "completed"
    },
    "tags": []
   },
   "outputs": [],
   "source": [
    "featVect = VectorAssembler(inputCols=['fixed acidity','volatile acidity','citric acid','residual sugar','chlorides','free sulfur dioxide','total sulfur dioxide','density','pH','sulphates','alcohol'], outputCol=\"features\")\n",
    "data=featVect.transform(df)"
   ]
  },
  {
   "cell_type": "markdown",
   "id": "97d616b9",
   "metadata": {
    "papermill": {
     "duration": 0.057921,
     "end_time": "2023-02-15T11:16:10.758056",
     "exception": false,
     "start_time": "2023-02-15T11:16:10.700135",
     "status": "completed"
    },
    "tags": []
   },
   "source": [
    "**Split the Data**\n",
    "\n",
    "I will use 70% of the data for training, and reserve 30% for testing. In the testing data, the label column is renamed to trueLabel so I can use it later to compare predicted labels with known actual values."
   ]
  },
  {
   "cell_type": "code",
   "execution_count": 17,
   "id": "b99bb357",
   "metadata": {
    "execution": {
     "iopub.execute_input": "2023-02-15T11:16:10.825270Z",
     "iopub.status.busy": "2023-02-15T11:16:10.824673Z",
     "iopub.status.idle": "2023-02-15T11:16:12.682072Z",
     "shell.execute_reply": "2023-02-15T11:16:12.679998Z"
    },
    "papermill": {
     "duration": 1.894469,
     "end_time": "2023-02-15T11:16:12.685506",
     "exception": false,
     "start_time": "2023-02-15T11:16:10.791037",
     "status": "completed"
    },
    "tags": []
   },
   "outputs": [
    {
     "name": "stdout",
     "output_type": "stream",
     "text": [
      "Training Rows: 1428  Testing Rows: 628\n"
     ]
    }
   ],
   "source": [
    "\n",
    "splits = data.randomSplit([0.7, 0.3])\n",
    "train = splits[0]\n",
    "test = splits[1].withColumnRenamed(\"label\", \"trueLabel\")\n",
    "train_rows = train.count()\n",
    "test_rows = test.count()\n",
    "print(\"Training Rows:\", train_rows, \" Testing Rows:\", test_rows)"
   ]
  },
  {
   "cell_type": "markdown",
   "id": "e1228427",
   "metadata": {
    "papermill": {
     "duration": 0.030539,
     "end_time": "2023-02-15T11:16:12.748720",
     "exception": false,
     "start_time": "2023-02-15T11:16:12.718181",
     "status": "completed"
    },
    "tags": []
   },
   "source": [
    "**Define the Pipeline**\n",
    "\n",
    "\n",
    "A pipeline consists of a series of transformer and estimator stages that typically prepare a DataFrame for modeling and then train a predictive model. In this case, you will create a pipeline with seven stages:\n",
    "\n",
    "\n",
    "A StringIndexer estimator that converts string values to indexes for categorical features\n",
    "A VectorAssembler that combines categorical features into a single vector\n",
    "A VectorIndexer that creates indexes for a vector of categorical features\n",
    "A VectorAssembler that creates a vector of continuous numeric features\n",
    "A MinMaxScaler that normalizes continuous numeric features\n",
    "A VectorAssembler that creates a vector of categorical and continuous features\n",
    "A DecisionTreeClassifier that trains a classification model."
   ]
  },
  {
   "cell_type": "code",
   "execution_count": 18,
   "id": "315b46c8",
   "metadata": {
    "execution": {
     "iopub.execute_input": "2023-02-15T11:16:12.810029Z",
     "iopub.status.busy": "2023-02-15T11:16:12.809581Z",
     "iopub.status.idle": "2023-02-15T11:16:12.870750Z",
     "shell.execute_reply": "2023-02-15T11:16:12.869575Z"
    },
    "papermill": {
     "duration": 0.096202,
     "end_time": "2023-02-15T11:16:12.874565",
     "exception": false,
     "start_time": "2023-02-15T11:16:12.778363",
     "status": "completed"
    },
    "tags": []
   },
   "outputs": [],
   "source": [
    "#strIdx = StringIndexer(inputCol = \"Carrier\", outputCol = \"CarrierIdx\")\n",
    "#catVect = VectorAssembler(inputCols = [\"CarrierIdx\", \"DayofMonth\", \"DayOfWeek\", \"OriginAirportID\", \"DestAirportID\"], outputCol=\"catFeatures\")\n",
    "#catIdx = VectorIndexer(inputCol = catVect.getOutputCol(), outputCol = \"idxCatFeatures\")\n",
    "#numVect = VectorAssembler(inputCols = [\"DepDelay\"], outputCol=\"numFeatures\")\n",
    "#minMax = MinMaxScaler(inputCol = numVect.getOutputCol(), outputCol=\"normFeatures\")\n",
    "#featVect = VectorAssembler(inputCols=[\"idxCatFeatures\", \"normFeatures\"], outputCol=\"features\")\n",
    "lr = LogisticRegression(labelCol=\"quality\",featuresCol=\"features\",maxIter=10,regParam=0.3)\n",
    "#dt = DecisionTreeClassifier(labelCol=\"label\", featuresCol=\"features\")\n",
    "#pipeline = Pipeline(stages=[strIdx, catVect, catIdx, numVect, minMax, featVect, lr])\n"
   ]
  },
  {
   "cell_type": "code",
   "execution_count": 19,
   "id": "ad16078d",
   "metadata": {
    "execution": {
     "iopub.execute_input": "2023-02-15T11:16:12.937294Z",
     "iopub.status.busy": "2023-02-15T11:16:12.936842Z",
     "iopub.status.idle": "2023-02-15T11:16:13.457691Z",
     "shell.execute_reply": "2023-02-15T11:16:13.456746Z"
    },
    "papermill": {
     "duration": 0.557211,
     "end_time": "2023-02-15T11:16:13.462740",
     "exception": false,
     "start_time": "2023-02-15T11:16:12.905529",
     "status": "completed"
    },
    "tags": []
   },
   "outputs": [
    {
     "name": "stdout",
     "output_type": "stream",
     "text": [
      "+-------------+----------------+-----------+--------------+------------------+-------------------+--------------------+-------+----+---------+-------+-------+--------------------+\n",
      "|fixed acidity|volatile acidity|citric acid|residual sugar|         chlorides|free sulfur dioxide|total sulfur dioxide|density|  pH|sulphates|alcohol|quality|            features|\n",
      "+-------------+----------------+-----------+--------------+------------------+-------------------+--------------------+-------+----+---------+-------+-------+--------------------+\n",
      "|          5.0|            0.43|       0.24|           2.5|0.0579999999999999|               11.0|                35.0|0.99258|3.22|     0.55|   12.2|      8|[5.0,0.43,0.24,2....|\n",
      "|          5.0|             0.5|        0.0|           1.7|             0.066|               19.0|                48.0|0.99294|3.78|     0.66|   12.1|      6|[5.0,0.5,0.0,1.7,...|\n",
      "|          5.0|             0.5|        0.0|           1.8|             0.048|               15.0|                33.0|0.99292|3.78|     0.79|   12.3|      8|[5.0,0.5,0.0,1.8,...|\n",
      "|          5.1|            0.53|       0.04|           1.7|             0.044|                4.0|                12.0|0.99385|3.67|     0.69|   10.1|      6|[5.1,0.53,0.04,1....|\n",
      "|          5.1|            0.56|        0.0|           1.8|             0.057|                8.0|                20.0|0.99672|3.68|     0.86|   11.0|      5|[5.1,0.56,0.0,1.8...|\n",
      "|          5.1|            0.84|        0.0|           2.3|0.0579999999999999|               17.0|                43.0|0.99258|3.18|     0.68|   12.8|      7|[5.1,0.84,0.0,2.3...|\n",
      "|          5.2|            0.38|       0.27|           2.4|0.0559999999999999|               13.0|                49.0|0.99182|3.52|     0.82|   12.8|      7|[5.2,0.38,0.27,2....|\n",
      "|          5.2|            0.67|       0.02|           1.4|             0.045|               13.0|                49.0|0.99387|3.78|     0.47|   10.2|      5|[5.2,0.67,0.02,1....|\n",
      "|          5.3|            0.33|       0.32|           1.8|             0.042|               18.0|                96.0| 0.9934|3.36|      0.5|    9.2|      5|[5.3,0.33,0.32,1....|\n",
      "|          5.3|            0.43|       0.09|           1.8|             0.048|                6.0|                21.0|0.99252|3.53|     0.76|   12.0|      7|[5.3,0.43,0.09,1....|\n",
      "|          5.3|            0.66|       0.07|           1.7|             0.111|                3.0|                19.0| 0.9976|3.59|     0.71|   12.1|      6|[5.3,0.66,0.07,1....|\n",
      "|          5.3|            0.67|       0.11|           1.8|             0.075|               19.0|                20.0| 0.9947|3.49|     0.67|   11.4|      6|[5.3,0.67,0.11,1....|\n",
      "|          5.4|            0.32|       0.31|          2.95|             0.093|               14.0|                38.0| 0.9916|3.61|     0.71|   12.6|      5|[5.4,0.32,0.31,2....|\n",
      "|          5.4|            0.65|        0.0|           2.2|0.0969999999999999|               11.0|                65.0|0.99396|3.68|     0.62|    9.5|      7|[5.4,0.65,0.0,2.2...|\n",
      "|          5.6|            0.48|       0.28|           2.1|             0.099|               28.0|                51.0|0.99256|3.38|     0.77|   11.9|      6|[5.6,0.48,0.28,2....|\n",
      "|          5.6|            0.56|       0.07|           1.7|             0.044|                8.0|                18.0|0.99385|3.38|     0.62|   11.1|      6|[5.6,0.56,0.07,1....|\n",
      "|          5.6|            0.57|       0.04|           3.0|             0.059|               10.0|                19.0| 0.9964|3.55|     0.64|   11.6|      5|[5.6,0.57,0.04,3....|\n",
      "|          5.6|            0.65|        0.0|           1.8|              0.07|               18.0|                38.0|0.99157|3.68|     0.53|    9.8|      6|[5.6,0.65,0.0,1.8...|\n",
      "|          5.6|            0.74|       0.03|           1.9|             0.081|                7.0|                13.0|0.99508|3.56|     0.54|    9.8|      5|[5.6,0.74,0.03,1....|\n",
      "|          5.6|            0.82|        0.0|           2.7|              0.05|               13.0|                28.0| 0.9934|3.51|     0.74|   12.4|      7|[5.6,0.82,0.0,2.7...|\n",
      "+-------------+----------------+-----------+--------------+------------------+-------------------+--------------------+-------+----+---------+-------+-------+--------------------+\n",
      "only showing top 20 rows\n",
      "\n"
     ]
    }
   ],
   "source": [
    "train.show()"
   ]
  },
  {
   "cell_type": "code",
   "execution_count": 20,
   "id": "da2abc77",
   "metadata": {
    "execution": {
     "iopub.execute_input": "2023-02-15T11:16:13.531436Z",
     "iopub.status.busy": "2023-02-15T11:16:13.530978Z",
     "iopub.status.idle": "2023-02-15T11:16:13.894551Z",
     "shell.execute_reply": "2023-02-15T11:16:13.893485Z"
    },
    "papermill": {
     "duration": 0.40165,
     "end_time": "2023-02-15T11:16:13.897477",
     "exception": false,
     "start_time": "2023-02-15T11:16:13.495827",
     "status": "completed"
    },
    "tags": []
   },
   "outputs": [
    {
     "name": "stdout",
     "output_type": "stream",
     "text": [
      "+-------------+----------------+-----------+--------------+------------------+-------------------+--------------------+-------+----+---------+-------+-------+--------------------+\n",
      "|fixed acidity|volatile acidity|citric acid|residual sugar|         chlorides|free sulfur dioxide|total sulfur dioxide|density|  pH|sulphates|alcohol|quality|            features|\n",
      "+-------------+----------------+-----------+--------------+------------------+-------------------+--------------------+-------+----+---------+-------+-------+--------------------+\n",
      "|          5.0|            0.32|        0.0|           1.9|             0.044|                8.0|                18.0|0.99235|3.78|     0.73|   12.4|      6|[5.0,0.32,0.0,1.9...|\n",
      "|          5.0|             0.4|       0.01|           2.1|             0.118|               19.0|                58.0| 0.9976|3.54|     0.88|   12.4|      6|[5.0,0.4,0.01,2.1...|\n",
      "|          5.0|            0.46|       0.11|           1.6|0.0559999999999999|               12.0|                19.0|0.99258|3.22|      0.7|   12.6|      6|[5.0,0.46,0.11,1....|\n",
      "|          5.0|            0.62|       0.13|           1.9|             0.093|               14.0|                42.0|0.99258|3.63|     0.56|   10.1|      6|[5.0,0.62,0.13,1....|\n",
      "|          5.2|            0.34|       0.08|           2.4|             0.071|                7.0|                18.0|0.99374|3.68|     0.72|   11.0|      5|[5.2,0.34,0.08,2....|\n",
      "|          5.2|           0.695|        0.0|           1.8|0.0409999999999999|                6.0|                12.0|0.99191|3.56|     0.62|   11.8|      5|[5.2,0.695,0.0,1....|\n",
      "|          5.3|           0.885|        0.0|           2.1|             0.123|               13.0|                31.0|0.99396|3.56|     0.73|   11.2|      6|[5.3,0.885,0.0,2....|\n",
      "|          5.6|            0.39|       0.16|           3.0|             0.095|               12.0|                49.0| 0.9981|3.61|     0.89|   13.1|      8|[5.6,0.39,0.16,3....|\n",
      "|          5.6|            0.41|        0.0|           2.1|             0.065|                7.0|                16.0|0.99252|3.54|     0.76|   12.5|      6|[5.6,0.41,0.0,2.1...|\n",
      "|          5.6|            0.48|       0.02|           2.1|             0.063|                7.0|                15.0| 0.9958|3.65|     0.54|   10.3|      5|[5.6,0.48,0.02,2....|\n",
      "|          5.6|            0.54|       0.19|           1.9|             0.062|               30.0|                69.0|0.99344|3.56|     0.61|   10.3|      5|[5.6,0.54,0.19,1....|\n",
      "|          5.6|            0.64|       0.07|           1.8|             0.054|               30.0|                51.0|0.99479|3.71|     0.71|   10.5|      7|[5.6,0.64,0.07,1....|\n",
      "|          5.6|            0.66|       0.01|           1.9|0.1169999999999999|               12.0|                20.0|0.99784|3.72|     0.74|    9.6|      5|[5.6,0.66,0.01,1....|\n",
      "|          5.6|            0.66|       0.05|           2.2|             0.049|                6.0|                14.0|0.99512|3.62|     0.57|   11.4|      6|[5.6,0.66,0.05,2....|\n",
      "|          5.6|           0.725|       0.04|          2.15|             0.086|                7.0|                31.0| 0.9962|3.78|      0.6|    9.7|      5|[5.6,0.725,0.04,2...|\n",
      "|          5.6|            0.74|        0.0|           2.2|             0.048|               26.0|                52.0|0.99562|3.68|     0.82|   13.2|      5|[5.6,0.74,0.0,2.2...|\n",
      "|          5.6|            0.84|        0.0|           2.5|             0.081|                5.0|                10.0|0.99258|3.25|     0.59|   12.4|      6|[5.6,0.84,0.0,2.5...|\n",
      "|          5.7|            0.31|       0.37|           2.3|0.0409999999999999|               17.0|                81.0|0.99386|3.57|     1.06|   11.2|      6|[5.7,0.31,0.37,2....|\n",
      "|          5.8|            0.52|       0.04|           1.8|             0.054|               18.0|                44.0| 0.9942|3.42|     0.56|   12.9|      6|[5.8,0.52,0.04,1....|\n",
      "|          5.8|            0.52|       0.13|           2.0|             0.075|               15.0|                21.0|0.99528|3.54|     0.47|   11.0|      4|[5.8,0.52,0.13,2....|\n",
      "+-------------+----------------+-----------+--------------+------------------+-------------------+--------------------+-------+----+---------+-------+-------+--------------------+\n",
      "only showing top 20 rows\n",
      "\n"
     ]
    }
   ],
   "source": [
    "test.show()"
   ]
  },
  {
   "cell_type": "markdown",
   "id": "db0250fb",
   "metadata": {
    "papermill": {
     "duration": 0.026204,
     "end_time": "2023-02-15T11:16:13.955142",
     "exception": false,
     "start_time": "2023-02-15T11:16:13.928938",
     "status": "completed"
    },
    "tags": []
   },
   "source": [
    "**RANDOM FOREST MODEL**"
   ]
  },
  {
   "cell_type": "code",
   "execution_count": 21,
   "id": "37c6fc57",
   "metadata": {
    "execution": {
     "iopub.execute_input": "2023-02-15T11:16:13.996353Z",
     "iopub.status.busy": "2023-02-15T11:16:13.996014Z",
     "iopub.status.idle": "2023-02-15T11:16:14.022264Z",
     "shell.execute_reply": "2023-02-15T11:16:14.021365Z"
    },
    "papermill": {
     "duration": 0.049734,
     "end_time": "2023-02-15T11:16:14.024376",
     "exception": false,
     "start_time": "2023-02-15T11:16:13.974642",
     "status": "completed"
    },
    "tags": []
   },
   "outputs": [],
   "source": [
    "from pyspark.ml.classification import RandomForestClassifier\n",
    "rf=RandomForestClassifier(labelCol='quality',featuresCol='features',maxDepth=5)"
   ]
  },
  {
   "cell_type": "code",
   "execution_count": 22,
   "id": "588a00a9",
   "metadata": {
    "execution": {
     "iopub.execute_input": "2023-02-15T11:16:14.065674Z",
     "iopub.status.busy": "2023-02-15T11:16:14.064982Z",
     "iopub.status.idle": "2023-02-15T11:16:16.835212Z",
     "shell.execute_reply": "2023-02-15T11:16:16.834185Z"
    },
    "papermill": {
     "duration": 2.794082,
     "end_time": "2023-02-15T11:16:16.838174",
     "exception": false,
     "start_time": "2023-02-15T11:16:14.044092",
     "status": "completed"
    },
    "tags": []
   },
   "outputs": [],
   "source": [
    "model1=lr.fit(train)"
   ]
  },
  {
   "cell_type": "code",
   "execution_count": 23,
   "id": "4dcaf554",
   "metadata": {
    "execution": {
     "iopub.execute_input": "2023-02-15T11:16:16.897755Z",
     "iopub.status.busy": "2023-02-15T11:16:16.897366Z",
     "iopub.status.idle": "2023-02-15T11:16:16.997987Z",
     "shell.execute_reply": "2023-02-15T11:16:16.996982Z"
    },
    "papermill": {
     "duration": 0.133243,
     "end_time": "2023-02-15T11:16:17.000837",
     "exception": false,
     "start_time": "2023-02-15T11:16:16.867594",
     "status": "completed"
    },
    "tags": []
   },
   "outputs": [],
   "source": [
    "predictions1=model1.transform(test)"
   ]
  },
  {
   "cell_type": "code",
   "execution_count": 24,
   "id": "ae8ef8f9",
   "metadata": {
    "execution": {
     "iopub.execute_input": "2023-02-15T11:16:17.055801Z",
     "iopub.status.busy": "2023-02-15T11:16:17.055469Z",
     "iopub.status.idle": "2023-02-15T11:16:17.124072Z",
     "shell.execute_reply": "2023-02-15T11:16:17.122693Z"
    },
    "papermill": {
     "duration": 0.094135,
     "end_time": "2023-02-15T11:16:17.125683",
     "exception": true,
     "start_time": "2023-02-15T11:16:17.031548",
     "status": "failed"
    },
    "tags": []
   },
   "outputs": [
    {
     "ename": "NameError",
     "evalue": "name 'MulticlassClassificationEvaluator' is not defined",
     "output_type": "error",
     "traceback": [
      "\u001b[0;31m---------------------------------------------------------------------------\u001b[0m",
      "\u001b[0;31mNameError\u001b[0m                                 Traceback (most recent call last)",
      "\u001b[0;32m/tmp/ipykernel_23/1724798870.py\u001b[0m in \u001b[0;36m<module>\u001b[0;34m\u001b[0m\n\u001b[0;32m----> 1\u001b[0;31m \u001b[0mevaluator1\u001b[0m\u001b[0;34m=\u001b[0m\u001b[0mMulticlassClassificationEvaluator\u001b[0m\u001b[0;34m(\u001b[0m\u001b[0mlabelCol\u001b[0m\u001b[0;34m=\u001b[0m\u001b[0;34m'quality'\u001b[0m\u001b[0;34m,\u001b[0m\u001b[0mpredictionCol\u001b[0m\u001b[0;34m=\u001b[0m\u001b[0;34m'prediction'\u001b[0m\u001b[0;34m,\u001b[0m\u001b[0mmetricName\u001b[0m\u001b[0;34m=\u001b[0m\u001b[0;34m'accuracy'\u001b[0m\u001b[0;34m)\u001b[0m\u001b[0;34m\u001b[0m\u001b[0;34m\u001b[0m\u001b[0m\n\u001b[0m",
      "\u001b[0;31mNameError\u001b[0m: name 'MulticlassClassificationEvaluator' is not defined"
     ]
    }
   ],
   "source": [
    "evaluator1=MulticlassClassificationEvaluator(labelCol='quality',predictionCol='prediction',metricName='accuracy')"
   ]
  },
  {
   "cell_type": "code",
   "execution_count": null,
   "id": "d45e0428",
   "metadata": {
    "execution": {
     "iopub.execute_input": "2023-02-01T11:57:29.624220Z",
     "iopub.status.busy": "2023-02-01T11:57:29.623860Z",
     "iopub.status.idle": "2023-02-01T11:57:30.057809Z",
     "shell.execute_reply": "2023-02-01T11:57:30.056855Z",
     "shell.execute_reply.started": "2023-02-01T11:57:29.624191Z"
    },
    "papermill": {
     "duration": null,
     "end_time": null,
     "exception": null,
     "start_time": null,
     "status": "pending"
    },
    "tags": []
   },
   "outputs": [],
   "source": [
    "accuracy=evaluator.evaluate(predictions)\n",
    "print(accuracy)"
   ]
  },
  {
   "cell_type": "code",
   "execution_count": null,
   "id": "64f4ba27",
   "metadata": {
    "execution": {
     "iopub.execute_input": "2023-02-01T11:47:33.058276Z",
     "iopub.status.busy": "2023-02-01T11:47:33.057600Z",
     "iopub.status.idle": "2023-02-01T11:47:36.003288Z",
     "shell.execute_reply": "2023-02-01T11:47:36.002139Z",
     "shell.execute_reply.started": "2023-02-01T11:47:33.058241Z"
    },
    "papermill": {
     "duration": null,
     "end_time": null,
     "exception": null,
     "start_time": null,
     "status": "pending"
    },
    "tags": []
   },
   "outputs": [],
   "source": [
    "model=rf.fit(train)"
   ]
  },
  {
   "cell_type": "code",
   "execution_count": null,
   "id": "59b73d2c",
   "metadata": {
    "execution": {
     "iopub.execute_input": "2023-02-01T11:47:36.423522Z",
     "iopub.status.busy": "2023-02-01T11:47:36.423174Z",
     "iopub.status.idle": "2023-02-01T11:47:36.479879Z",
     "shell.execute_reply": "2023-02-01T11:47:36.478605Z",
     "shell.execute_reply.started": "2023-02-01T11:47:36.423491Z"
    },
    "papermill": {
     "duration": null,
     "end_time": null,
     "exception": null,
     "start_time": null,
     "status": "pending"
    },
    "tags": []
   },
   "outputs": [],
   "source": [
    "predictions=model.transform(test)"
   ]
  },
  {
   "cell_type": "markdown",
   "id": "d83ff7e4",
   "metadata": {
    "papermill": {
     "duration": null,
     "end_time": null,
     "exception": null,
     "start_time": null,
     "status": "pending"
    },
    "tags": []
   },
   "source": [
    "**EVALUATION METRICS**"
   ]
  },
  {
   "cell_type": "code",
   "execution_count": null,
   "id": "8ccd2b0e",
   "metadata": {
    "execution": {
     "iopub.execute_input": "2023-02-01T11:47:38.542799Z",
     "iopub.status.busy": "2023-02-01T11:47:38.542121Z",
     "iopub.status.idle": "2023-02-01T11:47:38.547938Z",
     "shell.execute_reply": "2023-02-01T11:47:38.546838Z",
     "shell.execute_reply.started": "2023-02-01T11:47:38.542746Z"
    },
    "papermill": {
     "duration": null,
     "end_time": null,
     "exception": null,
     "start_time": null,
     "status": "pending"
    },
    "tags": []
   },
   "outputs": [],
   "source": [
    "from pyspark.ml.evaluation import MulticlassClassificationEvaluator"
   ]
  },
  {
   "cell_type": "code",
   "execution_count": null,
   "id": "d1787178",
   "metadata": {
    "execution": {
     "iopub.execute_input": "2023-02-01T11:47:41.850682Z",
     "iopub.status.busy": "2023-02-01T11:47:41.850279Z",
     "iopub.status.idle": "2023-02-01T11:47:41.861183Z",
     "shell.execute_reply": "2023-02-01T11:47:41.860062Z",
     "shell.execute_reply.started": "2023-02-01T11:47:41.850646Z"
    },
    "papermill": {
     "duration": null,
     "end_time": null,
     "exception": null,
     "start_time": null,
     "status": "pending"
    },
    "tags": []
   },
   "outputs": [],
   "source": [
    "evaluator=MulticlassClassificationEvaluator(labelCol='quality',predictionCol='prediction',metricName='accuracy')"
   ]
  },
  {
   "cell_type": "markdown",
   "id": "dcb6cbf2",
   "metadata": {
    "papermill": {
     "duration": null,
     "end_time": null,
     "exception": null,
     "start_time": null,
     "status": "pending"
    },
    "tags": []
   },
   "source": [
    "**CHECKING THE ACCURACY**"
   ]
  },
  {
   "cell_type": "code",
   "execution_count": null,
   "id": "4de27a07",
   "metadata": {
    "execution": {
     "iopub.execute_input": "2023-02-01T11:47:43.079209Z",
     "iopub.status.busy": "2023-02-01T11:47:43.078813Z",
     "iopub.status.idle": "2023-02-01T11:47:43.332811Z",
     "shell.execute_reply": "2023-02-01T11:47:43.331549Z",
     "shell.execute_reply.started": "2023-02-01T11:47:43.079177Z"
    },
    "papermill": {
     "duration": null,
     "end_time": null,
     "exception": null,
     "start_time": null,
     "status": "pending"
    },
    "tags": []
   },
   "outputs": [],
   "source": [
    "accuracy=evaluator.evaluate(predictions)"
   ]
  },
  {
   "cell_type": "code",
   "execution_count": null,
   "id": "07687f0b",
   "metadata": {
    "execution": {
     "iopub.execute_input": "2023-02-01T11:47:45.065509Z",
     "iopub.status.busy": "2023-02-01T11:47:45.064509Z",
     "iopub.status.idle": "2023-02-01T11:47:45.071793Z",
     "shell.execute_reply": "2023-02-01T11:47:45.070662Z",
     "shell.execute_reply.started": "2023-02-01T11:47:45.065440Z"
    },
    "papermill": {
     "duration": null,
     "end_time": null,
     "exception": null,
     "start_time": null,
     "status": "pending"
    },
    "tags": []
   },
   "outputs": [],
   "source": [
    "print(accuracy)"
   ]
  },
  {
   "cell_type": "code",
   "execution_count": null,
   "id": "8cbf6857",
   "metadata": {
    "execution": {
     "iopub.execute_input": "2023-02-01T11:47:51.886229Z",
     "iopub.status.busy": "2023-02-01T11:47:51.885499Z",
     "iopub.status.idle": "2023-02-01T11:47:51.897513Z",
     "shell.execute_reply": "2023-02-01T11:47:51.896146Z",
     "shell.execute_reply.started": "2023-02-01T11:47:51.886190Z"
    },
    "papermill": {
     "duration": null,
     "end_time": null,
     "exception": null,
     "start_time": null,
     "status": "pending"
    },
    "tags": []
   },
   "outputs": [],
   "source": [
    "test_main=test_main.drop(\"id\")"
   ]
  },
  {
   "cell_type": "code",
   "execution_count": null,
   "id": "b083fdb4",
   "metadata": {
    "execution": {
     "iopub.execute_input": "2023-02-01T11:48:04.050130Z",
     "iopub.status.busy": "2023-02-01T11:48:04.049737Z",
     "iopub.status.idle": "2023-02-01T11:48:04.181075Z",
     "shell.execute_reply": "2023-02-01T11:48:04.179902Z",
     "shell.execute_reply.started": "2023-02-01T11:48:04.050095Z"
    },
    "papermill": {
     "duration": null,
     "end_time": null,
     "exception": null,
     "start_time": null,
     "status": "pending"
    },
    "tags": []
   },
   "outputs": [],
   "source": [
    "test_main.show()"
   ]
  },
  {
   "cell_type": "code",
   "execution_count": null,
   "id": "9c64efc1",
   "metadata": {
    "execution": {
     "iopub.execute_input": "2023-02-01T11:48:12.264560Z",
     "iopub.status.busy": "2023-02-01T11:48:12.263925Z",
     "iopub.status.idle": "2023-02-01T11:48:12.317473Z",
     "shell.execute_reply": "2023-02-01T11:48:12.316522Z",
     "shell.execute_reply.started": "2023-02-01T11:48:12.264521Z"
    },
    "papermill": {
     "duration": null,
     "end_time": null,
     "exception": null,
     "start_time": null,
     "status": "pending"
    },
    "tags": []
   },
   "outputs": [],
   "source": [
    "featVect1 = VectorAssembler(inputCols=['fixed acidity','volatile acidity','citric acid','residual sugar','chlorides','free sulfur dioxide','total sulfur dioxide','density','pH','sulphates','alcohol'], outputCol=\"features\")\n",
    "data1=featVect1.transform(test_main)"
   ]
  },
  {
   "cell_type": "code",
   "execution_count": null,
   "id": "12c2e909",
   "metadata": {
    "execution": {
     "iopub.execute_input": "2023-02-01T11:48:15.453143Z",
     "iopub.status.busy": "2023-02-01T11:48:15.452782Z",
     "iopub.status.idle": "2023-02-01T11:48:15.563299Z",
     "shell.execute_reply": "2023-02-01T11:48:15.562318Z",
     "shell.execute_reply.started": "2023-02-01T11:48:15.453113Z"
    },
    "papermill": {
     "duration": null,
     "end_time": null,
     "exception": null,
     "start_time": null,
     "status": "pending"
    },
    "tags": []
   },
   "outputs": [],
   "source": [
    "data1.show()"
   ]
  },
  {
   "cell_type": "markdown",
   "id": "eaa8705f",
   "metadata": {
    "papermill": {
     "duration": null,
     "end_time": null,
     "exception": null,
     "start_time": null,
     "status": "pending"
    },
    "tags": []
   },
   "source": [
    "**PREDICTIONS**"
   ]
  },
  {
   "cell_type": "code",
   "execution_count": null,
   "id": "758b41da",
   "metadata": {
    "execution": {
     "iopub.execute_input": "2023-02-01T11:48:34.791523Z",
     "iopub.status.busy": "2023-02-01T11:48:34.791139Z",
     "iopub.status.idle": "2023-02-01T11:48:34.872328Z",
     "shell.execute_reply": "2023-02-01T11:48:34.871307Z",
     "shell.execute_reply.started": "2023-02-01T11:48:34.791491Z"
    },
    "papermill": {
     "duration": null,
     "end_time": null,
     "exception": null,
     "start_time": null,
     "status": "pending"
    },
    "tags": []
   },
   "outputs": [],
   "source": [
    "pred=model.transform(data1)"
   ]
  },
  {
   "cell_type": "code",
   "execution_count": null,
   "id": "44c1b162",
   "metadata": {
    "execution": {
     "iopub.execute_input": "2023-02-01T11:48:35.099260Z",
     "iopub.status.busy": "2023-02-01T11:48:35.098531Z",
     "iopub.status.idle": "2023-02-01T11:48:35.310907Z",
     "shell.execute_reply": "2023-02-01T11:48:35.309977Z",
     "shell.execute_reply.started": "2023-02-01T11:48:35.099224Z"
    },
    "papermill": {
     "duration": null,
     "end_time": null,
     "exception": null,
     "start_time": null,
     "status": "pending"
    },
    "tags": []
   },
   "outputs": [],
   "source": [
    "pred.show()"
   ]
  },
  {
   "cell_type": "code",
   "execution_count": null,
   "id": "d8175fea",
   "metadata": {
    "execution": {
     "iopub.execute_input": "2023-02-01T11:32:59.361680Z",
     "iopub.status.busy": "2023-02-01T11:32:59.361216Z",
     "iopub.status.idle": "2023-02-01T11:32:59.473417Z",
     "shell.execute_reply": "2023-02-01T11:32:59.472555Z",
     "shell.execute_reply.started": "2023-02-01T11:32:59.361638Z"
    },
    "papermill": {
     "duration": null,
     "end_time": null,
     "exception": null,
     "start_time": null,
     "status": "pending"
    },
    "tags": []
   },
   "outputs": [],
   "source": [
    "pred.count()"
   ]
  },
  {
   "cell_type": "code",
   "execution_count": null,
   "id": "55ad07d4",
   "metadata": {
    "execution": {
     "iopub.execute_input": "2023-02-01T11:32:59.728201Z",
     "iopub.status.busy": "2023-02-01T11:32:59.727850Z",
     "iopub.status.idle": "2023-02-01T11:32:59.815944Z",
     "shell.execute_reply": "2023-02-01T11:32:59.814989Z",
     "shell.execute_reply.started": "2023-02-01T11:32:59.728172Z"
    },
    "papermill": {
     "duration": null,
     "end_time": null,
     "exception": null,
     "start_time": null,
     "status": "pending"
    },
    "tags": []
   },
   "outputs": [],
   "source": [
    "sub.count()"
   ]
  },
  {
   "cell_type": "code",
   "execution_count": null,
   "id": "2970ad75",
   "metadata": {
    "execution": {
     "iopub.execute_input": "2023-02-01T11:49:00.473531Z",
     "iopub.status.busy": "2023-02-01T11:49:00.472948Z",
     "iopub.status.idle": "2023-02-01T11:49:00.487964Z",
     "shell.execute_reply": "2023-02-01T11:49:00.486808Z",
     "shell.execute_reply.started": "2023-02-01T11:49:00.473489Z"
    },
    "papermill": {
     "duration": null,
     "end_time": null,
     "exception": null,
     "start_time": null,
     "status": "pending"
    },
    "tags": []
   },
   "outputs": [],
   "source": [
    "pred1=pred.select(col('prediction').cast('integer'))"
   ]
  },
  {
   "cell_type": "code",
   "execution_count": null,
   "id": "b670e193",
   "metadata": {
    "execution": {
     "iopub.execute_input": "2023-02-01T11:49:03.217171Z",
     "iopub.status.busy": "2023-02-01T11:49:03.214174Z",
     "iopub.status.idle": "2023-02-01T11:49:03.635016Z",
     "shell.execute_reply": "2023-02-01T11:49:03.634042Z",
     "shell.execute_reply.started": "2023-02-01T11:49:03.217126Z"
    },
    "papermill": {
     "duration": null,
     "end_time": null,
     "exception": null,
     "start_time": null,
     "status": "pending"
    },
    "tags": []
   },
   "outputs": [],
   "source": [
    "pred1=pred1.toPandas()"
   ]
  },
  {
   "cell_type": "code",
   "execution_count": null,
   "id": "ecb64d9a",
   "metadata": {
    "execution": {
     "iopub.execute_input": "2023-02-01T11:49:04.888555Z",
     "iopub.status.busy": "2023-02-01T11:49:04.887540Z",
     "iopub.status.idle": "2023-02-01T11:49:04.900360Z",
     "shell.execute_reply": "2023-02-01T11:49:04.899048Z",
     "shell.execute_reply.started": "2023-02-01T11:49:04.888517Z"
    },
    "papermill": {
     "duration": null,
     "end_time": null,
     "exception": null,
     "start_time": null,
     "status": "pending"
    },
    "tags": []
   },
   "outputs": [],
   "source": [
    "pred1"
   ]
  },
  {
   "cell_type": "code",
   "execution_count": null,
   "id": "c342c91f",
   "metadata": {
    "execution": {
     "iopub.execute_input": "2023-02-01T11:45:46.690702Z",
     "iopub.status.busy": "2023-02-01T11:45:46.690314Z",
     "iopub.status.idle": "2023-02-01T11:45:46.793428Z",
     "shell.execute_reply": "2023-02-01T11:45:46.792136Z",
     "shell.execute_reply.started": "2023-02-01T11:45:46.690671Z"
    },
    "papermill": {
     "duration": null,
     "end_time": null,
     "exception": null,
     "start_time": null,
     "status": "pending"
    },
    "tags": []
   },
   "outputs": [],
   "source": [
    "sub.show()"
   ]
  },
  {
   "cell_type": "code",
   "execution_count": null,
   "id": "da8cda16",
   "metadata": {
    "execution": {
     "iopub.execute_input": "2023-02-01T11:49:18.812131Z",
     "iopub.status.busy": "2023-02-01T11:49:18.811770Z",
     "iopub.status.idle": "2023-02-01T11:49:18.891229Z",
     "shell.execute_reply": "2023-02-01T11:49:18.890230Z",
     "shell.execute_reply.started": "2023-02-01T11:49:18.812100Z"
    },
    "papermill": {
     "duration": null,
     "end_time": null,
     "exception": null,
     "start_time": null,
     "status": "pending"
    },
    "tags": []
   },
   "outputs": [],
   "source": [
    "sub=sub.toPandas()"
   ]
  },
  {
   "cell_type": "code",
   "execution_count": null,
   "id": "41c8f0d3",
   "metadata": {
    "execution": {
     "iopub.execute_input": "2023-02-01T11:49:46.858221Z",
     "iopub.status.busy": "2023-02-01T11:49:46.857515Z",
     "iopub.status.idle": "2023-02-01T11:49:46.863290Z",
     "shell.execute_reply": "2023-02-01T11:49:46.862239Z",
     "shell.execute_reply.started": "2023-02-01T11:49:46.858186Z"
    },
    "papermill": {
     "duration": null,
     "end_time": null,
     "exception": null,
     "start_time": null,
     "status": "pending"
    },
    "tags": []
   },
   "outputs": [],
   "source": [
    "sub['quality']=pred1['prediction']"
   ]
  },
  {
   "cell_type": "markdown",
   "id": "c5575af1",
   "metadata": {
    "papermill": {
     "duration": null,
     "end_time": null,
     "exception": null,
     "start_time": null,
     "status": "pending"
    },
    "tags": []
   },
   "source": [
    "**CONVERTING PREDICTIONS TO CSV FILE**"
   ]
  },
  {
   "cell_type": "code",
   "execution_count": null,
   "id": "e0ed1b59",
   "metadata": {
    "execution": {
     "iopub.execute_input": "2023-02-01T11:49:53.458763Z",
     "iopub.status.busy": "2023-02-01T11:49:53.458350Z",
     "iopub.status.idle": "2023-02-01T11:49:53.468836Z",
     "shell.execute_reply": "2023-02-01T11:49:53.467772Z",
     "shell.execute_reply.started": "2023-02-01T11:49:53.458730Z"
    },
    "papermill": {
     "duration": null,
     "end_time": null,
     "exception": null,
     "start_time": null,
     "status": "pending"
    },
    "tags": []
   },
   "outputs": [],
   "source": [
    "sub.to_csv(\"wine_quality.csv\",index=False)"
   ]
  },
  {
   "cell_type": "code",
   "execution_count": null,
   "id": "dbeaf813",
   "metadata": {
    "papermill": {
     "duration": null,
     "end_time": null,
     "exception": null,
     "start_time": null,
     "status": "pending"
    },
    "tags": []
   },
   "outputs": [],
   "source": []
  }
 ],
 "metadata": {
  "kernelspec": {
   "display_name": "Python 3",
   "language": "python",
   "name": "python3"
  },
  "language_info": {
   "codemirror_mode": {
    "name": "ipython",
    "version": 3
   },
   "file_extension": ".py",
   "mimetype": "text/x-python",
   "name": "python",
   "nbconvert_exporter": "python",
   "pygments_lexer": "ipython3",
   "version": "3.7.12"
  },
  "papermill": {
   "default_parameters": {},
   "duration": 83.354077,
   "end_time": "2023-02-15T11:16:19.767519",
   "environment_variables": {},
   "exception": true,
   "input_path": "__notebook__.ipynb",
   "output_path": "__notebook__.ipynb",
   "parameters": {},
   "start_time": "2023-02-15T11:14:56.413442",
   "version": "2.3.4"
  }
 },
 "nbformat": 4,
 "nbformat_minor": 5
}
